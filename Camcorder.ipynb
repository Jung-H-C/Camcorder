{
 "cells": [
  {
   "cell_type": "code",
   "execution_count": 3,
   "metadata": {},
   "outputs": [
    {
     "name": "stdout",
     "output_type": "stream",
     "text": [
      "4.9.0\n"
     ]
    }
   ],
   "source": [
    "import cv2 as cv\n",
    "import sys"
   ]
  },
  {
   "cell_type": "code",
   "execution_count": 22,
   "metadata": {},
   "outputs": [],
   "source": [
    "cap = cv.VideoCapture(0)\n",
    "\n",
    "if not cap.isOpened():\n",
    "    print(\"Camera Open Failed!\")\n",
    "    sys.exit()\n",
    "\n",
    "width = int(cap.get(cv.CAP_PROP_FRAME_WIDTH))\n",
    "height = int(cap.get(cv.CAP_PROP_FRAME_HEIGHT))\n",
    "fps = cap.get(cv.CAP_PROP_FPS)\n",
    "\n",
    "four_cc = cv.VideoWriter_fourcc(*'DIVX')\n",
    "wait_msec = int(1000 / fps)\n",
    "\n",
    "out = cv.VideoWriter('record6.avi', four_cc, fps, (width, height))\n",
    "recording = False\n",
    "\n",
    "if not out.isOpened():\n",
    "    print('File open failed')\n",
    "    cap.release()\n",
    "    sys.exit()\n",
    "\n",
    "while True:\n",
    "    valid, frame = cap.read()\n",
    "    cv.imshow('Camcorder', frame)\n",
    "    key = cv.waitKey(wait_msec)\n",
    "    # waitKey의 return값은 ASCII코드의 값이므로 정수임! 따라서 키 입력 받을때 ord()함수를 활용해야 정상 작동!\n",
    "\n",
    "    if not valid:\n",
    "        print(\"Error occurred\")\n",
    "        break\n",
    "\n",
    "    if recording:\n",
    "        out.write(frame)\n",
    "\n",
    "    if key == ord(' '):\n",
    "        if not recording:\n",
    "            # record 모드 돌입\n",
    "            recording = True\n",
    "            continue\n",
    "        else:\n",
    "            # preview 모드 돌입\n",
    "            recording = False\n",
    "            continue\n",
    "    \n",
    "    elif key == 27:\n",
    "        break\n",
    "\n",
    "cap.release()\n",
    "out.release()\n",
    "cv.destroyAllWindows()"
   ]
  },
  {
   "cell_type": "code",
   "execution_count": null,
   "metadata": {},
   "outputs": [],
   "source": []
  },
  {
   "cell_type": "code",
   "execution_count": null,
   "metadata": {},
   "outputs": [],
   "source": []
  }
 ],
 "metadata": {
  "kernelspec": {
   "display_name": "base",
   "language": "python",
   "name": "python3"
  },
  "language_info": {
   "codemirror_mode": {
    "name": "ipython",
    "version": 3
   },
   "file_extension": ".py",
   "mimetype": "text/x-python",
   "name": "python",
   "nbconvert_exporter": "python",
   "pygments_lexer": "ipython3",
   "version": "3.11.5"
  }
 },
 "nbformat": 4,
 "nbformat_minor": 2
}
