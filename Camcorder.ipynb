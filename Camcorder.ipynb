{
 "cells": [
  {
   "cell_type": "code",
   "execution_count": 1,
   "metadata": {},
   "outputs": [],
   "source": [
    "import cv2 as cv"
   ]
  },
  {
   "cell_type": "code",
   "execution_count": 3,
   "metadata": {},
   "outputs": [],
   "source": [
    "video = cv.VideoCapture(0)\n",
    "# 주로 0번이 기본 웹캠을 의미함\n",
    "target_filename = './record.avi'\n",
    "\n",
    "frame_width = int(video.get(3))\n",
    "frame_height = int(video.get(4))\n",
    "target = cv.VideoWriter('./record.avi', cv.VideoWriter_fourcc(*'XVID'), 20, (frame_width, frame_height))\n",
    "\n",
    "if video.isOpened():\n",
    "    fps = video.get(cv.CAP_PROP_FPS)\n",
    "    wait_msc = int(1 / fps * 1000)\n",
    "    is_record = False\n",
    "\n",
    "    while True:\n",
    "        valid, img = video.read()\n",
    "        if not valid:\n",
    "            print(\"에러 발생\")\n",
    "            break\n",
    "\n",
    "        if is_record:\n",
    "            target.write(img)\n",
    "\n",
    "        cv.imshow('Video Player', img)\n",
    "        key = cv.waitKey(wait_msc)\n",
    "        if key == ' ':\n",
    "            # 모드 변환 preview <-> record\n",
    "            is_record = not is_record\n",
    "            if is_record:\n",
    "                # 녹화 시작 알림\n",
    "                print(\"녹화 시작\")\n",
    "            else:\n",
    "                # 녹화 종료 알림\n",
    "                print(\"녹화 종료\")\n",
    "        \n",
    "        elif key == 27:\n",
    "            # 프로그램 종료\n",
    "            break\n",
    "\n",
    "\n",
    "    cv.destroyAllWindows()"
   ]
  },
  {
   "cell_type": "code",
   "execution_count": null,
   "metadata": {},
   "outputs": [],
   "source": []
  }
 ],
 "metadata": {
  "kernelspec": {
   "display_name": "base",
   "language": "python",
   "name": "python3"
  },
  "language_info": {
   "codemirror_mode": {
    "name": "ipython",
    "version": 3
   },
   "file_extension": ".py",
   "mimetype": "text/x-python",
   "name": "python",
   "nbconvert_exporter": "python",
   "pygments_lexer": "ipython3",
   "version": "3.11.5"
  }
 },
 "nbformat": 4,
 "nbformat_minor": 2
}
